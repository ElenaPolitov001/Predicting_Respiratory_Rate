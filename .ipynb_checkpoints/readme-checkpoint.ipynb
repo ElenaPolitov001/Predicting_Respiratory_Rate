{
 "cells": [
  {
   "cell_type": "markdown",
   "metadata": {},
   "source": [
    "# Predicting Respiratory rate using data available on a smart watch\n",
    "\n",
    "April 2019\n",
    "\n",
    "by Joe Ganser"
   ]
  },
  {
   "cell_type": "markdown",
   "metadata": {},
   "source": [
    "**ABSTRACT**\n",
    "\n",
    "This research was the product of a data driven healthcare hackathon I participated sponsored by [Accenture](https://www.accenture.com) and the [School of AI](https://www.theschool.ai/). **I was the team leader, and our team came in first place for the NY division.** Here we use blood oxygen and electrocardiogram data to predict the rate at which people breath. It turns out, this data can be extracted from a smart watch. Using this data, we could predict a persons respiratory rate with 90% accuracy."
   ]
  },
  {
   "cell_type": "markdown",
   "metadata": {},
   "source": [
    "<img src='https://raw.githubusercontent.com/JoeGanser/Predicting_Respiratory_Rate/master/images/group_shot.jpg' width='50%' height='50%'>"
   ]
  },
  {
   "cell_type": "markdown",
   "metadata": {},
   "source": [
    "### CONTENTS\n",
    "* **I. Introducing the problem**\n",
    "   * I.A Background information & Context\n",
    "   * I.B The goals of this analysis   \n",
    "* ** II. Data Structure & Feature Engineering**\n",
    "    * II.A How the data was originally harvested\n",
    "    * II.B The original data's structure: ECG, PPG & pulminory\n",
    "    * II.C Visualizing the fundamental data\n",
    "    * II.D Engineering the features\n",
    "* ** III. Putting the big data on Amazon Web Service**\n",
    "* **IV. Modelling**\n",
    "    * IV.A Assumptions that had to be made\n",
    "    * IV.B Model deployment\n",
    "    * IV.C Best Results\n",
    "    * IV.D Validating a well fit model\n",
    "    * IV.E Feature importance\n",
    "* **V. Conclusions**\n",
    "    * V.A Insights on usage\n",
    "    * V.B Prospects on further deployment\n",
    "* **VI. Links to Coded Notebooks**\n",
    "* **VII. References**"
   ]
  },
  {
   "cell_type": "markdown",
   "metadata": {},
   "source": [
    "**Our official presentation title**"
   ]
  },
  {
   "cell_type": "markdown",
   "metadata": {},
   "source": [
    "<img src='https://raw.githubusercontent.com/JoeGanser/Predicting_Respiratory_Rate/master/images/catching_your_breath.png' width='40%' height='40%'>"
   ]
  },
  {
   "cell_type": "markdown",
   "metadata": {},
   "source": [
    "# I. Introducing the problem "
   ]
  },
  {
   "cell_type": "markdown",
   "metadata": {},
   "source": [
    "**Background information & Context**\n",
    "\n",
    "[Electrocardiogram (ECG)](https://en.wikipedia.org/wiki/Electrocardiography) data and [photoplethysmogram (PPG)](https://en.wikipedia.org/wiki/Photoplethysmogram#Photoplethysmograph) data are extremely useful in healthcare. They are used to assist in diagnostic methods for a wide array of diseases. ECG measures cardiac properties and PPG data measures blood oxygen levels using optical instruments. (1,2)\n",
    "\n",
    "Both ECG and PPG data can be extracted from a smart watch at the same level of accuracy and precisions of machines found in hospitals. ECG and PPG can be combined to predict breathing rate, and using the combination of all this data (3,4,5).\n",
    "\n",
    "The data used for this analysis was not actually collected from a smart watch, but smart watches have the capability to collect the same data. The data used in this analysis was from 53 patients in intensive care, where their ECG, PPG and breathing rates were measured. (4,5,6)\n",
    "\n",
    "<img src='https://raw.githubusercontent.com/JoeGanser/Predicting_Respiratory_Rate/master/images/smart_watch.png' width='50%' height='50%'>\n",
    "\n",
    "**Goals of the analysis**\n",
    "\n",
    "The goal was to use supervised machine learning techniques to predict a persons breathing rate using real time, continuous PPG and ECG data.\n",
    "\n",
    "In conjunction, it was also our goal to investigate the feasibility of using this type of data for enhancing diagnostic processes in healthcare. We ended by speculating on the market evolution of technology that integrates these methods."
   ]
  },
  {
   "cell_type": "markdown",
   "metadata": {},
   "source": [
    "# II. Data Structure & Feature Engineering"
   ]
  },
  {
   "cell_type": "markdown",
   "metadata": {},
   "source": [
    "**How the data was originally harvested**\n",
    "\n",
    "The data used for this analysis was time series recorded from 53 ICU patients, in age ranges between 19-84. Both male and female patients were present. They were recorded using hospital based ECG and PPG devices, and a breathing apparatus. Continuous measurements for each patient were made across apporximately 8 minutes (6).\n",
    "\n",
    "**The original data's structure: ECG, PPG & pulminory**\n",
    "\n",
    "The data was aggregated from two fundamental sources - one which was collected at 1Hz and the other at 125Hz. These were then joined in a left outer manor. Some of the key features were;\n",
    "\n",
    "* Respiratory rate (the supervised learning target)\n",
    "* Pulse\n",
    "* Blood oxygen level\n",
    "* Pleth (pulmonary data)\n",
    "* V (voltage)\n",
    "* AVR\n",
    "* II\n",
    "\n",
    "\n",
    "The 1Hz data looked like this;"
   ]
  },
  {
   "cell_type": "markdown",
   "metadata": {},
   "source": [
    "Time (s)| HR| PULSE| SpO2\n",
    "---|---|---|---\n",
    "0|93|92|96\n",
    "1|92|92|96\n",
    "2|92|92|96\n",
    "3|92|93|96\n",
    "4|92|93|96"
   ]
  },
  {
   "cell_type": "markdown",
   "metadata": {},
   "source": [
    "The 125Hz data looked like this;"
   ]
  },
  {
   "cell_type": "markdown",
   "metadata": {},
   "source": [
    "Time (s)| RESP| PLETH| II| V| AVR\n",
    "---|---|---|---|---|---\n",
    "0.0|0.25806|0.59531|-0.058594|0.721569|0.859379\n",
    "0.008|0.26393|0.59042|-0.029297|0.69608|0.69531\n",
    "0.016|0.269790|0.58358|0.179690|0.7|0.45508\n",
    "0.024|0.27566|0.57771|0.84375|0.32941|0.041016\n",
    "0.032|0.2825|0.57283|1.3184|0.078431|-0.099609"
   ]
  },
  {
   "cell_type": "markdown",
   "metadata": {},
   "source": [
    "After combining with left outer join, we got;"
   ]
  },
  {
   "cell_type": "markdown",
   "metadata": {},
   "source": [
    "Time (s)| RESP| PLETH| V| AVR| II| HR| PULSE| SpO2\n",
    "---|---|---|---|---|---|---|---|---\n",
    "0.0|0.25806|0.59531|0.721569|0.859379|-0.0585944|93|92|96\n",
    "0.008|0.26393|0.59042|0.69608|0.69531|-0.029297|93|92|96\n",
    "0.016|0.269790|0.58358|0.7|0.45508|0.17969|93|92|96\n",
    "0.024|0.27566|0.57771|0.32941|0.041016|0.84375|93|92|96\n",
    "0.032|0.2825|0.57283|0.078431|-0.099609|1.3184|93|92|96"
   ]
  },
  {
   "cell_type": "markdown",
   "metadata": {},
   "source": [
    "For each person in the study, this amounted to about 60,000 rows. When all 53 people were combined, we were left with approximately 2.7 million rows (about 1.2Gb of data.)"
   ]
  },
  {
   "cell_type": "markdown",
   "metadata": {},
   "source": [
    "**Visualizing the fundamental data**\n",
    "\n",
    "The data was fundamentally time series based. Here are a few snapshots of some of the key features;\n",
    "<img src='https://raw.githubusercontent.com/JoeGanser/Predicting_Respiratory_Rate/master/images/graphics.png' width='60%' height='60%'>"
   ]
  },
  {
   "cell_type": "markdown",
   "metadata": {},
   "source": [
    "**Feature engineering**\n",
    "\n",
    "Considering the aggregation of the data from 125Hz, the values of the metrics varied quite a bit in each second. Thus, summary statistics of the 125 values collected each second could be engineered into features. Specifically, these features were;\n",
    "\n",
    "* Max value\n",
    "* Min value\n",
    "* Mean value\n",
    "* Kurtosis value\n",
    "* Skew value\n",
    "\n",
    "(Over the distribution of the 125 measurements made each second). To create these features, a function was created."
   ]
  },
  {
   "cell_type": "code",
   "execution_count": null,
   "metadata": {},
   "outputs": [],
   "source": [
    "from scipy.stats import kurtosis,skew\n",
    "\n",
    "def make_features(frame):\n",
    "    frame.fillna(numerics.mean(),inplace=True) \n",
    "    Hz_125_cols = [' RESP', ' PLETH', ' V', ' AVR', ' II']\n",
    "    Min = frame[Hz_125_cols+['sec']].groupby('sec').min()\n",
    "    Min.columns = [i+'_Min' for i in Min.columns]\n",
    "    Max = frame[Hz_125_cols+['sec']].groupby('sec').max()\n",
    "    Max.columns = [i+'_Max' for i in Max.columns]\n",
    "    Mean = frame[Hz_125_cols+['sec']].groupby('sec').mean()\n",
    "    Mean.columns = Mean.columns = [i+'_Mean' for i in Mean.columns]\n",
    "    Kurt = frame[Hz_125_cols+['sec']].groupby('sec').agg(lambda x: kurtosis(x))\n",
    "    Kurt.columns = [i+'_Kurt' for i in Kurt.columns]\n",
    "    Skw = frame[Hz_125_cols+['sec']].groupby('sec').agg(lambda x: skew(x))\n",
    "    Skw.columns = [i+'_Skw' for i in Skw.columns]\n",
    "    summary_frames = [Min,Max,Mean,Kurt,Skw]\n",
    "    one_sec_summary = pd.concat(summary_frames,axis=1).reset_index()\n",
    "    frame = frame.merge(one_sec_summary,on='sec',how='outer')\n",
    "    return frame"
   ]
  },
  {
   "cell_type": "markdown",
   "metadata": {},
   "source": [
    "Time (s)| RESP| PLETH| V| AVR| II| HR| PULSE| SpO2| RESP_Min| PLETH_Min| V_Min| AVR_Min| II_Min| RESP_Max| PLETH_Max| V_Max| AVR_Max| II_Max| RESP_Mean| PLETH_Mean| V_Mean| AVR_Mean| II_Mean| RESP_Kurt| PLETH_Kurt| V_Kurt| AVR_Kurt| II_Kurt| RESP_Skw| PLETH_Skw| V_Skw| AVR_Skw| II_Skw\n",
    "---|---|---|---|---|---|---|---|---|---|---|---|---|---|---|---|---|---|---|---|---|---|---|---|---|---|---|---|---|---|---|---|---|---\n",
    "0.0|0.25806|0.59531|0.72157|0.85938|-0.05859|93|92|96|0.25806|0.37732|0.07451|-0.09961|-0.21484|1.0|0.59531|0.87059|1.0254|1.3438|0.70822|0.46446|0.75551|0.81947|-0.02431|-1.40052|-1.08775|10.3465|13.15985|13.94906|-0.24258|0.48232|-3.05758|-3.3357|3.5823\n",
    "0.008|0.26393|0.59042|0.69608|0.69531|-0.0293|93|92|96|0.25806|0.37732|0.07451|-0.09961|-0.21484|1.0|0.59531|0.87059|1.0254|1.3438|0.70822|0.46446|0.75551|0.81947|-0.02431|-1.40052|-1.08775|10.3465|13.15985|13.94906|-0.24258|0.48232|-3.05758|-3.3357|3.5823\n",
    "0.016|0.26979|0.58358|0.7|0.45508|0.17969|93|92|96|0.25806|0.37732|0.07451|-0.09961|-0.21484|1.0|0.59531|0.87059|1.0254|1.3438|0.70822|0.46446|0.75551|0.81947|-0.02431|-1.40052|-1.08775|10.3465|13.15985|13.94906|-0.24258|0.48232|-3.05758|-3.3357|3.5823\n",
    "0.024|0.27566|0.57771|0.32941|0.04102|0.84375|93|92|96|0.25806|0.37732|0.07451|-0.09961|-0.21484|1.0|0.59531|0.87059|1.0254|1.3438|0.70822|0.46446|0.75551|0.81947|-0.02431|-1.40052|-1.08775|10.3465|13.15985|13.94906|-0.24258|0.48232|-3.05758|-3.3357|3.5823\n",
    "0.032|0.2825|0.57283|0.07843|-0.09961|1.3184|93|92|96|0.25806|0.37732|0.07451|-0.09961|-0.21484|1.0|0.59531|0.87059|1.0254|1.3438|0.70822|0.46446|0.75551|0.81947|-0.02431|-1.40052|-1.08775|10.3465|13.15985|13.94906|-0.24258|0.48232|-3.05758|-3.3357|3.5823"
   ]
  },
  {
   "cell_type": "markdown",
   "metadata": {},
   "source": [
    "# III. Putting the big data on Amazon Web Service"
   ]
  },
  {
   "cell_type": "markdown",
   "metadata": {},
   "source": [
    "During the hackathon, Accenture provided us with a $125 gift certificate to create and Amazon Web Service EC2 instance.\n",
    "\n",
    "This enabled us to use a p3.2x large instance, putting 1.2Gb into the system. Despite our enhanced processing capability, it was still challenging and time consuming to run all the models. It took approximately 6-10 minutes to run the full models on AWS."
   ]
  },
  {
   "cell_type": "markdown",
   "metadata": {},
   "source": [
    "# IV. Modelling"
   ]
  },
  {
   "cell_type": "markdown",
   "metadata": {},
   "source": [
    "Multiple attempts using regression techniques were made to model the data. Using resp as our target, our goal was to optimize performance on the metrics of;\n",
    "* R2 score\n",
    "* Mean squared error\n",
    "* Model evaluation time (seconds)"
   ]
  },
  {
   "cell_type": "markdown",
   "metadata": {},
   "source": [
    "**Assumptions that had to be made**\n",
    "\n",
    "To make a regression analysis on time series data, we had to assume the time series is itself stationary. This means that the value of the feature we're analyzing has an average and variance that is constant in time.\n",
    "\n",
    "Stated mathematically, the assumptions were;\n",
    "\n",
    "<img src='https://raw.githubusercontent.com/JoeGanser/Time_Series_Of_Bitcoin_Ethereum/master/Crypto_8_2017_Files/stationarity_criteria.png' width='70%' height='70%'>\n",
    "\n",
    "Are these assumptions valid or realistic? Yes definitiely so. Why? Because the people who were being studied in the original analysis for which the data is being collected were laying down in bed throughout the study. Thus, the there was no stimulus to change in the time series, and it can be assumed to have a constant trend."
   ]
  },
  {
   "cell_type": "markdown",
   "metadata": {},
   "source": [
    "**Model Development**\n",
    "\n",
    "A function was created to put the data through a pipeline for which it was fitted and scored on several different types of models. The models that were compared were\n",
    "\n",
    "* Ordinary Least Squares\n",
    "* Lasso Regression\n",
    "* Elastic Net Regression\n",
    "* Ridge regression\n",
    "* Bayesian Ridge\n",
    "* K-neighbors regression\n",
    "* Random Forest Regression\n",
    "\n",
    "\n",
    "The function that produced this system was this;"
   ]
  },
  {
   "cell_type": "code",
   "execution_count": null,
   "metadata": {},
   "outputs": [],
   "source": [
    "import time\n",
    "import numpy as np\n",
    "from sklearn.metrics import r2_score,mean_squared_error,mean_absolute_error\n",
    "from sklearn.linear_model import Lasso,Ridge,ElasticNet, BayesianRidge, LinearRegression\n",
    "from sklearn import neighbors\n",
    "from sklearn.ensemble import RandomForestRegressor\n",
    "from sklearn.model_selection import train_test_split\n",
    "\n",
    "models = {'OLS':LinearRegression(),'ElasticNet':ElasticNet(),\n",
    "          'BayesianRidge':BayesianRidge(),'Lasso':Lasso(),\n",
    "         'Ridge':Ridge(),'KNN':neighbors.KNeighborsRegressor(),\n",
    "         'rff':RandomForestRegressor()}\n",
    "\n",
    "def model_performance(X,y):\n",
    "    times =[]\n",
    "    keys = []\n",
    "    mean_squared_errors = []\n",
    "    mean_abs_error = []\n",
    "    R2_scores = []\n",
    "    X_train, X_test, y_train, y_test = train_test_split(X, y, test_size=0.3, random_state=10)\n",
    "\n",
    "    for k,v in models.items():\n",
    "        model = v\n",
    "        t0=time.time()\n",
    "        model.fit(X_train, y_train)\n",
    "        train_time = time.time()-t0\n",
    "        t1 = time.time()\n",
    "        pred = model.predict(X_test)\n",
    "        predict_time = time.time()-t1\n",
    "        pred = pd.Series(pred)\n",
    "        Time_total = train_time+predict_time\n",
    "        times.append(Time_total)\n",
    "        R2_scores.append(r2_score(y_test,pred))\n",
    "        mean_squared_errors.append(mean_squared_error(y_test,pred))\n",
    "        mean_abs_error.append(mean_absolute_error(y_test,pred))\n",
    "        keys.append(k)\n",
    "    table = pd.DataFrame({'model':keys, 'RMSE':mean_squared_errors,'MAE':mean_abs_error,'R2 score':R2_scores,'time':times})\n",
    "    table['RMSE'] = table['RMSE'].apply(lambda x: np.sqrt(x))\n",
    "    return table\n",
    "\n",
    "model_performance(X,y)"
   ]
  },
  {
   "cell_type": "markdown",
   "metadata": {},
   "source": [
    "**Best Results**\n",
    "\n",
    "After running this function, we got a table of performance metrics for each model. Note this is when we run on one only one person's data. If we ran on everyone in the study, the metrics were approximately the same."
   ]
  },
  {
   "cell_type": "markdown",
   "metadata": {},
   "source": [
    "model|R2 score|time(s)|RMSE\n",
    "---|---|---|---\n",
    "Random Forest|0.90017|2.85901|0.11014\n",
    "KNN|0.82439|4.02399|0.12569\n",
    "BayesianRidge|0.53836|0.076529|0.203805\n",
    "Ridge|0.53835|0.02263|0.20380\n",
    "OLS|0.53835|0.36989|0.20380\n",
    "ElasticNet|-1.24037e-05|0.02514|0.29996\n",
    "Lasso|-1.24037e-05|0.02388|0.29996"
   ]
  },
  {
   "cell_type": "markdown",
   "metadata": {},
   "source": [
    "Clearly, it was the random forest regressor that achieved the best results.\n",
    "\n",
    "**Validating a well fit model**\n",
    "\n",
    "Aside from simply metrics of performance, it's also good to look at how well the model has been fit. Here we see distribution of errors on the train set and the test set;\n",
    "\n",
    "<img src='https://raw.githubusercontent.com/JoeGanser/Predicting_Respiratory_Rate/master/images/RF_fit.png' width='80%' height='80%'>\n",
    "\n",
    "The frequency count may be slightly different in scale, but this is ok because its size difference is proprotional to the size differences in the train set and the test set.\n",
    "\n",
    "**Feature importance**\n",
    "\n",
    "One of the beauties of the random forest package, is it allows us to create an output describing the magnitude of feature importances.\n",
    "\n",
    "<img src='https://raw.githubusercontent.com/JoeGanser/Predicting_Respiratory_Rate/master/images/feature_importance.png' width='80%' height='80%'>"
   ]
  },
  {
   "cell_type": "markdown",
   "metadata": {},
   "source": [
    "It was also noticed that if we eliminated the plethysmogram data, we could still predict breathing rate with upto about 80% accuracy."
   ]
  },
  {
   "cell_type": "markdown",
   "metadata": {},
   "source": [
    "# V. Conclusions\n",
    "\n",
    "We can draw a few conclusions.\n",
    "* Using a persons plethysmogram and electrocardiogram data we can predict their respiratory rate with 90% accuracy.\n",
    "* If we train on multiple people's data, we predict anyone's respiratory rate with very good data.\n",
    "    \n",
    "    \n",
    "**Insights on usage**\n",
    "\n",
    "Being able to predict user's breathing rate with home based wearable technology opens up a lot of opportunities for healthcare. This can allow us to do things such as;\n",
    "\n",
    "* Have doctors monitor our health at home\n",
    "* Enhance and assist with continuous health monitoring\n",
    "* Prevent major health crises before they occur.\n",
    "\n",
    "**Prospects on further usage**\n",
    "\n",
    "Perhaps these algorithms and data collection techniques can be put into smart watch/phone apps. Software could be created that allows for automation of doctor patient interaction, notifying healthcare professionals in real time when a serious issue arises.\n",
    "\n",
    "Smart watches might save lives one day!\n",
    "\n",
    "<img src='https://raw.githubusercontent.com/JoeGanser/Predicting_Respiratory_Rate/master/images/smart_watch_ECG.gif'>"
   ]
  },
  {
   "cell_type": "markdown",
   "metadata": {},
   "source": [
    "# VI. Links to coded notebooks\n",
    "\n",
    "* [Downloading and aggregating the data](https://github.com/JoeGanser/Predicting_Respiratory_Rate/blob/master/download_data.ipynb)\n",
    "* [Modelling the data](https://github.com/JoeGanser/Predicting_Respiratory_Rate/blob/master/Modelling_Comparison_on_person12.ipynb)\n",
    "* [Random forest performance](https://github.com/JoeGanser/Predicting_Respiratory_Rate/blob/master/random_forest_performance.ipynb)"
   ]
  },
  {
   "cell_type": "markdown",
   "metadata": {},
   "source": [
    "# VII. References\n",
    "1. **Electrocardiogram (ECG)** https://en.wikipedia.org/wiki/Electrocardiography\n",
    "2. **Photoplethysmogram (PPG)** https://en.wikipedia.org/wiki/Photoplethysmogram#Photoplethysmograph\n",
    "3. **Probabilistic Estimation of Respiratory Rate from Wearable Sensors, Pimentel, Charlton, Clifton, Institute of Biomedical Engineering, Oxford University** http://www.robots.ox.ac.uk/~davidc/pubs/springer2015.pdf\n",
    "4. **PPG data can be extracted using smart watches:** https://www.ncbi.nlm.nih.gov/pubmed/26737690\n",
    "5. **ECG data cen be extracted using smart watches:** https://www.theatlantic.com/technology/archive/2019/02/the-apple-watch-ekgs-hidden-purpose/573385/\n",
    "6. **Clinical data on breathing rates, ppg, and ecg data from ICU patients** https://physionet.org/physiobank/database/"
   ]
  },
  {
   "cell_type": "code",
   "execution_count": null,
   "metadata": {},
   "outputs": [],
   "source": []
  }
 ],
 "metadata": {
  "kernelspec": {
   "display_name": "Python 3",
   "language": "python",
   "name": "python3"
  },
  "language_info": {
   "codemirror_mode": {
    "name": "ipython",
    "version": 3
   },
   "file_extension": ".py",
   "mimetype": "text/x-python",
   "name": "python",
   "nbconvert_exporter": "python",
   "pygments_lexer": "ipython3",
   "version": "3.6.7"
  }
 },
 "nbformat": 4,
 "nbformat_minor": 2
}
